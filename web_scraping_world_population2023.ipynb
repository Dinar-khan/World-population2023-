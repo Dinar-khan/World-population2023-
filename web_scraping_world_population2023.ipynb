{
 "cells": [
  {
   "cell_type": "markdown",
   "id": "187fd9f9",
   "metadata": {},
   "source": [
    "### import necessary libraries"
   ]
  },
  {
   "cell_type": "code",
   "execution_count": 1,
   "id": "0c481364",
   "metadata": {},
   "outputs": [],
   "source": [
    "import pandas as pd\n",
    "from selenium import webdriver\n",
    "import time\n",
    "import requests"
   ]
  },
  {
   "cell_type": "markdown",
   "id": "5450c73c",
   "metadata": {},
   "source": [
    "### Slelenium part "
   ]
  },
  {
   "cell_type": "code",
   "execution_count": 2,
   "id": "f9047f73",
   "metadata": {},
   "outputs": [
    {
     "name": "stderr",
     "output_type": "stream",
     "text": [
      "C:\\Users\\MTEXH\\AppData\\Local\\Temp/ipykernel_3756/7387394.py:5: DeprecationWarning: executable_path has been deprecated, please pass in a Service object\n",
      "  driver = webdriver.Chrome(executable_path='C:\\webdrivers\\chromedriver.exe')\n",
      "C:\\Users\\MTEXH\\AppData\\Local\\Temp/ipykernel_3756/7387394.py:13: DeprecationWarning: find_element_by_class_name is deprecated. Please use find_element(by=By.CLASS_NAME, value=name) instead\n",
      "  cross = driver.find_element_by_class_name('e2aMB9ds')\n"
     ]
    }
   ],
   "source": [
    "# store website\n",
    "url = 'https://worldpopulationreview.com/countries/'\n",
    "# webdriver path\n",
    "\n",
    "driver = webdriver.Chrome(executable_path='C:\\webdrivers\\chromedriver.exe')\n",
    "driver.get(url)\n",
    "\n",
    "# maximization \n",
    "driver.maximize_window()\n",
    "time.sleep(2)\n",
    "\n",
    "# cross click\n",
    "cross = driver.find_element_by_class_name('e2aMB9ds')\n",
    "cross.click()\n",
    "time.sleep(2)"
   ]
  },
  {
   "cell_type": "markdown",
   "id": "7a8e583a",
   "metadata": {},
   "source": [
    "### Required data"
   ]
  },
  {
   "cell_type": "code",
   "execution_count": 3,
   "id": "c1f8a05e",
   "metadata": {},
   "outputs": [
    {
     "name": "stderr",
     "output_type": "stream",
     "text": [
      "C:\\Users\\MTEXH\\AppData\\Local\\Temp/ipykernel_3756/1910873693.py:2: DeprecationWarning: find_elements_by_xpath is deprecated. Please use find_elements(by=By.XPATH, value=xpath) instead\n",
      "  country_name = driver.find_elements_by_xpath(\"//div[@class='datatable-container']//tbody/tr/td[2]\")\n",
      "C:\\Users\\MTEXH\\AppData\\Local\\Temp/ipykernel_3756/1910873693.py:5: DeprecationWarning: find_elements_by_xpath is deprecated. Please use find_elements(by=By.XPATH, value=xpath) instead\n",
      "  curr_population = driver.find_elements_by_xpath(\"//div[@class='datatable-container']//tbody/tr/td[3]\")\n",
      "C:\\Users\\MTEXH\\AppData\\Local\\Temp/ipykernel_3756/1910873693.py:8: DeprecationWarning: find_elements_by_xpath is deprecated. Please use find_elements(by=By.XPATH, value=xpath) instead\n",
      "  pop2022 = driver.find_elements_by_xpath(\"//div[@class='datatable-container']//tbody/tr/td[4]\")\n",
      "C:\\Users\\MTEXH\\AppData\\Local\\Temp/ipykernel_3756/1910873693.py:11: DeprecationWarning: find_elements_by_xpath is deprecated. Please use find_elements(by=By.XPATH, value=xpath) instead\n",
      "  area = driver.find_elements_by_xpath(\"//div[@class='datatable-container']//tbody//tr//td[5]\")\n",
      "C:\\Users\\MTEXH\\AppData\\Local\\Temp/ipykernel_3756/1910873693.py:14: DeprecationWarning: find_elements_by_xpath is deprecated. Please use find_elements(by=By.XPATH, value=xpath) instead\n",
      "  land = driver.find_elements_by_xpath(\"//div[@class='datatable-container']//tbody//tr//td[6]\")\n",
      "C:\\Users\\MTEXH\\AppData\\Local\\Temp/ipykernel_3756/1910873693.py:17: DeprecationWarning: find_elements_by_xpath is deprecated. Please use find_elements(by=By.XPATH, value=xpath) instead\n",
      "  density = driver.find_elements_by_xpath(\"//div[@class='datatable-container']//tbody//tr//td[7]\")\n",
      "C:\\Users\\MTEXH\\AppData\\Local\\Temp/ipykernel_3756/1910873693.py:20: DeprecationWarning: find_elements_by_xpath is deprecated. Please use find_elements(by=By.XPATH, value=xpath) instead\n",
      "  growth_rate = driver.find_elements_by_xpath(\"//div[@class='datatable-container']//tbody//tr//td[8]\")\n",
      "C:\\Users\\MTEXH\\AppData\\Local\\Temp/ipykernel_3756/1910873693.py:23: DeprecationWarning: find_elements_by_xpath is deprecated. Please use find_elements(by=By.XPATH, value=xpath) instead\n",
      "  world_percentage = driver.find_elements_by_xpath(\"//div[@class='datatable-container']//tbody//tr//td[9]\")\n",
      "C:\\Users\\MTEXH\\AppData\\Local\\Temp/ipykernel_3756/1910873693.py:26: DeprecationWarning: find_elements_by_xpath is deprecated. Please use find_elements(by=By.XPATH, value=xpath) instead\n",
      "  rank = driver.find_elements_by_xpath(\"//div[@class='datatable-container']//tbody//tr//td[10]\")\n"
     ]
    }
   ],
   "source": [
    "# country name\n",
    "country_name = driver.find_elements_by_xpath(\"//div[@class='datatable-container']//tbody/tr/td[2]\")\n",
    "\n",
    "# current population\n",
    "curr_population = driver.find_elements_by_xpath(\"//div[@class='datatable-container']//tbody/tr/td[3]\")\n",
    "\n",
    "# population 2022\n",
    "pop2022 = driver.find_elements_by_xpath(\"//div[@class='datatable-container']//tbody/tr/td[4]\")\n",
    "\n",
    "# Area (km)\n",
    "area = driver.find_elements_by_xpath(\"//div[@class='datatable-container']//tbody//tr//td[5]\")\n",
    "\n",
    "# land Area\n",
    "land = driver.find_elements_by_xpath(\"//div[@class='datatable-container']//tbody//tr//td[6]\")\n",
    "\n",
    "# Density \n",
    "density = driver.find_elements_by_xpath(\"//div[@class='datatable-container']//tbody//tr//td[7]\")\n",
    "\n",
    "# Growth Rate\n",
    "growth_rate = driver.find_elements_by_xpath(\"//div[@class='datatable-container']//tbody//tr//td[8]\")\n",
    "\n",
    "# World percentage\n",
    "world_percentage = driver.find_elements_by_xpath(\"//div[@class='datatable-container']//tbody//tr//td[9]\")\n",
    "\n",
    "# Rank\n",
    "rank = driver.find_elements_by_xpath(\"//div[@class='datatable-container']//tbody//tr//td[10]\")\n"
   ]
  },
  {
   "cell_type": "markdown",
   "id": "c6884960",
   "metadata": {},
   "source": [
    "### Creating DataFrame"
   ]
  },
  {
   "cell_type": "code",
   "execution_count": 4,
   "id": "303e8d5e",
   "metadata": {},
   "outputs": [
    {
     "data": {
      "text/html": [
       "<div>\n",
       "<style scoped>\n",
       "    .dataframe tbody tr th:only-of-type {\n",
       "        vertical-align: middle;\n",
       "    }\n",
       "\n",
       "    .dataframe tbody tr th {\n",
       "        vertical-align: top;\n",
       "    }\n",
       "\n",
       "    .dataframe thead th {\n",
       "        text-align: right;\n",
       "    }\n",
       "</style>\n",
       "<table border=\"1\" class=\"dataframe\">\n",
       "  <thead>\n",
       "    <tr style=\"text-align: right;\">\n",
       "      <th></th>\n",
       "      <th>country name</th>\n",
       "      <th>current population</th>\n",
       "      <th>population 2022</th>\n",
       "      <th>area</th>\n",
       "      <th>land area</th>\n",
       "      <th>density</th>\n",
       "      <th>growth rate</th>\n",
       "      <th>world percentage</th>\n",
       "      <th>rank</th>\n",
       "    </tr>\n",
       "  </thead>\n",
       "  <tbody>\n",
       "    <tr>\n",
       "      <th>0</th>\n",
       "      <td>India</td>\n",
       "      <td>1,423,118,510</td>\n",
       "      <td>1,417,173,173</td>\n",
       "      <td>3.3M</td>\n",
       "      <td>3M</td>\n",
       "      <td>481</td>\n",
       "      <td>0.81%</td>\n",
       "      <td>17.85%</td>\n",
       "      <td>1</td>\n",
       "    </tr>\n",
       "    <tr>\n",
       "      <th>1</th>\n",
       "      <td>China</td>\n",
       "      <td>1,425,820,141</td>\n",
       "      <td>1,425,887,337</td>\n",
       "      <td>9.7M</td>\n",
       "      <td>9.4M</td>\n",
       "      <td>151</td>\n",
       "      <td>-0.02%</td>\n",
       "      <td>17.81%</td>\n",
       "      <td>2</td>\n",
       "    </tr>\n",
       "    <tr>\n",
       "      <th>2</th>\n",
       "      <td>United States</td>\n",
       "      <td>339,231,549</td>\n",
       "      <td>338,289,857</td>\n",
       "      <td>9.4M</td>\n",
       "      <td>9.1M</td>\n",
       "      <td>37</td>\n",
       "      <td>0.50%</td>\n",
       "      <td>4.25%</td>\n",
       "      <td>3</td>\n",
       "    </tr>\n",
       "    <tr>\n",
       "      <th>3</th>\n",
       "      <td>Indonesia</td>\n",
       "      <td>276,576,867</td>\n",
       "      <td>275,501,339</td>\n",
       "      <td>1.9M</td>\n",
       "      <td>1.9M</td>\n",
       "      <td>148</td>\n",
       "      <td>0.74%</td>\n",
       "      <td>3.47%</td>\n",
       "      <td>4</td>\n",
       "    </tr>\n",
       "    <tr>\n",
       "      <th>4</th>\n",
       "      <td>Pakistan</td>\n",
       "      <td>238,517,163</td>\n",
       "      <td>235,824,862</td>\n",
       "      <td>881.9K</td>\n",
       "      <td>770.9K</td>\n",
       "      <td>312</td>\n",
       "      <td>1.98%</td>\n",
       "      <td>3.00%</td>\n",
       "      <td>5</td>\n",
       "    </tr>\n",
       "    <tr>\n",
       "      <th>...</th>\n",
       "      <td>...</td>\n",
       "      <td>...</td>\n",
       "      <td>...</td>\n",
       "      <td>...</td>\n",
       "      <td>...</td>\n",
       "      <td>...</td>\n",
       "      <td>...</td>\n",
       "      <td>...</td>\n",
       "      <td>...</td>\n",
       "    </tr>\n",
       "    <tr>\n",
       "      <th>200</th>\n",
       "      <td>San Marino</td>\n",
       "      <td>33,642</td>\n",
       "      <td>33,660</td>\n",
       "      <td>61</td>\n",
       "      <td>60</td>\n",
       "      <td>561</td>\n",
       "      <td>-0.05%</td>\n",
       "      <td>0.00%</td>\n",
       "      <td>218</td>\n",
       "    </tr>\n",
       "    <tr>\n",
       "      <th>201</th>\n",
       "      <td>Palau</td>\n",
       "      <td>18,058</td>\n",
       "      <td>18,055</td>\n",
       "      <td>459</td>\n",
       "      <td>460</td>\n",
       "      <td>39</td>\n",
       "      <td>0.02%</td>\n",
       "      <td>0.00%</td>\n",
       "      <td>222</td>\n",
       "    </tr>\n",
       "    <tr>\n",
       "      <th>202</th>\n",
       "      <td>Nauru</td>\n",
       "      <td>12,780</td>\n",
       "      <td>12,668</td>\n",
       "      <td>21</td>\n",
       "      <td>20</td>\n",
       "      <td>639</td>\n",
       "      <td>0.88%</td>\n",
       "      <td>0.00%</td>\n",
       "      <td>225</td>\n",
       "    </tr>\n",
       "    <tr>\n",
       "      <th>203</th>\n",
       "      <td>Tuvalu</td>\n",
       "      <td>11,396</td>\n",
       "      <td>11,312</td>\n",
       "      <td>26</td>\n",
       "      <td>30</td>\n",
       "      <td>380</td>\n",
       "      <td>0.74%</td>\n",
       "      <td>0.00%</td>\n",
       "      <td>227</td>\n",
       "    </tr>\n",
       "    <tr>\n",
       "      <th>204</th>\n",
       "      <td>Vatican City</td>\n",
       "      <td>518</td>\n",
       "      <td>510</td>\n",
       "      <td>&lt; 1</td>\n",
       "      <td>&lt; 1</td>\n",
       "      <td>1,177</td>\n",
       "      <td>1.57%</td>\n",
       "      <td></td>\n",
       "      <td>234</td>\n",
       "    </tr>\n",
       "  </tbody>\n",
       "</table>\n",
       "<p>205 rows × 9 columns</p>\n",
       "</div>"
      ],
      "text/plain": [
       "      country name current population population 2022    area land area  \\\n",
       "0            India      1,423,118,510   1,417,173,173    3.3M        3M   \n",
       "1            China      1,425,820,141   1,425,887,337    9.7M      9.4M   \n",
       "2    United States        339,231,549     338,289,857    9.4M      9.1M   \n",
       "3        Indonesia        276,576,867     275,501,339    1.9M      1.9M   \n",
       "4         Pakistan        238,517,163     235,824,862  881.9K    770.9K   \n",
       "..             ...                ...             ...     ...       ...   \n",
       "200     San Marino             33,642          33,660      61        60   \n",
       "201          Palau             18,058          18,055     459       460   \n",
       "202          Nauru             12,780          12,668      21        20   \n",
       "203         Tuvalu             11,396          11,312      26        30   \n",
       "204   Vatican City                518             510     < 1       < 1   \n",
       "\n",
       "    density growth rate world percentage rank  \n",
       "0       481       0.81%           17.85%    1  \n",
       "1       151      -0.02%           17.81%    2  \n",
       "2        37       0.50%            4.25%    3  \n",
       "3       148       0.74%            3.47%    4  \n",
       "4       312       1.98%            3.00%    5  \n",
       "..      ...         ...              ...  ...  \n",
       "200     561      -0.05%            0.00%  218  \n",
       "201      39       0.02%            0.00%  222  \n",
       "202     639       0.88%            0.00%  225  \n",
       "203     380       0.74%            0.00%  227  \n",
       "204   1,177       1.57%                   234  \n",
       "\n",
       "[205 rows x 9 columns]"
      ]
     },
     "execution_count": 4,
     "metadata": {},
     "output_type": "execute_result"
    }
   ],
   "source": [
    "df = pd.DataFrame(columns=['country name','current population','population 2022','area','land area','density','growth rate','world percentage','rank'])\n",
    "\n",
    "for A in range(len(country_name)):\n",
    "    df = df.append({'country name':country_name[A].text,'current population':curr_population[A].text,\n",
    "                   'population 2022':pop2022[A].text,'area':area[A].text,'land area':land[A].text,\n",
    "                   'density':density[A].text,'growth rate':growth_rate[A].text,'world percentage':world_percentage[A].text,\n",
    "                   'rank':rank[A].text},ignore_index =True)\n",
    "df    "
   ]
  },
  {
   "cell_type": "code",
   "execution_count": null,
   "id": "7c8aefa5",
   "metadata": {},
   "outputs": [],
   "source": []
  },
  {
   "cell_type": "markdown",
   "id": "33d291c3",
   "metadata": {},
   "source": [
    "### Save data to Excel"
   ]
  },
  {
   "cell_type": "code",
   "execution_count": 5,
   "id": "7fe54dba",
   "metadata": {},
   "outputs": [],
   "source": [
    "df = df.to_excel('world_population2023.xlsx')"
   ]
  },
  {
   "cell_type": "markdown",
   "id": "d2151480",
   "metadata": {},
   "source": [
    "#### Now check this file in your current repository."
   ]
  },
  {
   "cell_type": "code",
   "execution_count": 6,
   "id": "b96ce7b6",
   "metadata": {},
   "outputs": [
    {
     "name": "stdout",
     "output_type": "stream",
     "text": [
      "the project completed successfully\n"
     ]
    }
   ],
   "source": [
    "print('the project completed successfully')"
   ]
  },
  {
   "cell_type": "code",
   "execution_count": null,
   "id": "9b6b4325",
   "metadata": {},
   "outputs": [],
   "source": []
  },
  {
   "cell_type": "code",
   "execution_count": null,
   "id": "b5f7cce4",
   "metadata": {},
   "outputs": [],
   "source": []
  },
  {
   "cell_type": "code",
   "execution_count": null,
   "id": "90c9f9fa",
   "metadata": {},
   "outputs": [],
   "source": []
  }
 ],
 "metadata": {
  "kernelspec": {
   "display_name": "Python 3 (ipykernel)",
   "language": "python",
   "name": "python3"
  },
  "language_info": {
   "codemirror_mode": {
    "name": "ipython",
    "version": 3
   },
   "file_extension": ".py",
   "mimetype": "text/x-python",
   "name": "python",
   "nbconvert_exporter": "python",
   "pygments_lexer": "ipython3",
   "version": "3.9.7"
  }
 },
 "nbformat": 4,
 "nbformat_minor": 5
}
